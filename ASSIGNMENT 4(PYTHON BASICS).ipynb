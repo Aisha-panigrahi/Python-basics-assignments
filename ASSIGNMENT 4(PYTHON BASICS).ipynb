{
 "cells": [
  {
   "cell_type": "markdown",
   "id": "508df8e2",
   "metadata": {},
   "source": [
    "# 1. What exactly is []?\n",
    "ANS: This is an empty list which contains no items inside it."
   ]
  },
  {
   "cell_type": "markdown",
   "id": "2f36ef62",
   "metadata": {},
   "source": [
    "# 2. In a list of values stored in a variable called spam, how would you assign the value 'hello' as the third value?(Assume [2, 4, 6, 8, 10] are in spam.)\n"
   ]
  },
  {
   "cell_type": "code",
   "execution_count": 1,
   "id": "3fdb8608",
   "metadata": {},
   "outputs": [],
   "source": [
    "spam = [2,4,6,8,10]"
   ]
  },
  {
   "cell_type": "code",
   "execution_count": 6,
   "id": "e0ca7218",
   "metadata": {},
   "outputs": [],
   "source": [
    "spam[2] = \"hello\""
   ]
  },
  {
   "cell_type": "code",
   "execution_count": 7,
   "id": "602d7ce7",
   "metadata": {},
   "outputs": [
    {
     "data": {
      "text/plain": [
       "[2, 4, 'hello', 8, 10]"
      ]
     },
     "execution_count": 7,
     "metadata": {},
     "output_type": "execute_result"
    }
   ],
   "source": [
    "spam"
   ]
  },
  {
   "cell_type": "markdown",
   "id": "6b190cf0",
   "metadata": {},
   "source": [
    "## Let&#39;s pretend the spam includes the list [a,b,c,d] for the next three queries."
   ]
  },
  {
   "cell_type": "markdown",
   "id": "99e2416f",
   "metadata": {},
   "source": [
    "# 3. What is the value of spam[int(int('3' * 2) / 11)]?\n"
   ]
  },
  {
   "cell_type": "code",
   "execution_count": 10,
   "id": "3d7514d3",
   "metadata": {},
   "outputs": [],
   "source": [
    "spam = ['a','b','c','d']"
   ]
  },
  {
   "cell_type": "code",
   "execution_count": 11,
   "id": "04217bfe",
   "metadata": {},
   "outputs": [
    {
     "data": {
      "text/plain": [
       "'d'"
      ]
     },
     "execution_count": 11,
     "metadata": {},
     "output_type": "execute_result"
    }
   ],
   "source": [
    "spam[int(int('3' * 2) / 11)]"
   ]
  },
  {
   "cell_type": "markdown",
   "id": "21ae8dc4",
   "metadata": {},
   "source": [
    "# 4. What is the value of spam[-1]?"
   ]
  },
  {
   "cell_type": "code",
   "execution_count": 12,
   "id": "43351979",
   "metadata": {},
   "outputs": [
    {
     "data": {
      "text/plain": [
       "'d'"
      ]
     },
     "execution_count": 12,
     "metadata": {},
     "output_type": "execute_result"
    }
   ],
   "source": [
    "spam[-1]"
   ]
  },
  {
   "cell_type": "markdown",
   "id": "222b385e",
   "metadata": {},
   "source": [
    "# 5. What is the value of spam[:2]?"
   ]
  },
  {
   "cell_type": "code",
   "execution_count": 13,
   "id": "4fb4c24b",
   "metadata": {},
   "outputs": [
    {
     "data": {
      "text/plain": [
       "['a', 'b']"
      ]
     },
     "execution_count": 13,
     "metadata": {},
     "output_type": "execute_result"
    }
   ],
   "source": [
    "spam[ :2]"
   ]
  },
  {
   "cell_type": "markdown",
   "id": "b901b40e",
   "metadata": {},
   "source": [
    "## Let's pretend bacon has the list [3.14,'cat', 11, 'cat',True] for the next three questions."
   ]
  },
  {
   "cell_type": "markdown",
   "id": "42ba895d",
   "metadata": {},
   "source": [
    "# 6. What is the value of bacon.index('cat')?\n",
    "The value is 1 as python always takes the index of the duplicate elements which appears first.\n"
   ]
  },
  {
   "cell_type": "code",
   "execution_count": 14,
   "id": "405b842f",
   "metadata": {},
   "outputs": [],
   "source": [
    "bacon = [3.14, 'cat', 11, 'cat', True]"
   ]
  },
  {
   "cell_type": "code",
   "execution_count": 15,
   "id": "1996140d",
   "metadata": {},
   "outputs": [
    {
     "data": {
      "text/plain": [
       "1"
      ]
     },
     "execution_count": 15,
     "metadata": {},
     "output_type": "execute_result"
    }
   ],
   "source": [
    "bacon.index('cat')"
   ]
  },
  {
   "cell_type": "markdown",
   "id": "fd94de8d",
   "metadata": {},
   "source": [
    "# 7. How does bacon.append(99) change the look of the list value in bacon?\n",
    "it adds 99 as the last element of the list"
   ]
  },
  {
   "cell_type": "code",
   "execution_count": 16,
   "id": "c2e9059e",
   "metadata": {},
   "outputs": [],
   "source": [
    "bacon.append(99)"
   ]
  },
  {
   "cell_type": "code",
   "execution_count": 17,
   "id": "0665683d",
   "metadata": {},
   "outputs": [
    {
     "data": {
      "text/plain": [
       "[3.14, 'cat', 11, 'cat', True, 99]"
      ]
     },
     "execution_count": 17,
     "metadata": {},
     "output_type": "execute_result"
    }
   ],
   "source": [
    "bacon"
   ]
  },
  {
   "cell_type": "markdown",
   "id": "13fd4c47",
   "metadata": {},
   "source": [
    "# 8. How does bacon.remove('cat') change the look of the list in bacon?\n",
    "It removes the cat elements from the 1st index as it occurs first in the list."
   ]
  },
  {
   "cell_type": "code",
   "execution_count": 18,
   "id": "9e168464",
   "metadata": {},
   "outputs": [],
   "source": [
    "bacon.remove('cat')"
   ]
  },
  {
   "cell_type": "code",
   "execution_count": 19,
   "id": "ef2d354b",
   "metadata": {},
   "outputs": [
    {
     "data": {
      "text/plain": [
       "[3.14, 11, 'cat', True, 99]"
      ]
     },
     "execution_count": 19,
     "metadata": {},
     "output_type": "execute_result"
    }
   ],
   "source": [
    "bacon"
   ]
  },
  {
   "cell_type": "markdown",
   "id": "7972c2ce",
   "metadata": {},
   "source": [
    "# 9. What are the list concatenation and list replication operators?\n",
    "ANS: For list concatination, the operator is + and for list replication, the operator is *"
   ]
  },
  {
   "cell_type": "markdown",
   "id": "c7919a76",
   "metadata": {},
   "source": [
    "# 10. What is difference between the list methods append() and insert()?\n",
    "ANS: Append() function adds a new element only at the last of the list while insert() function adds an element at the specified index of the list."
   ]
  },
  {
   "cell_type": "markdown",
   "id": "6d35899c",
   "metadata": {},
   "source": [
    "# 11. What are the two methods for removing items from a list?\n",
    "ANS: The two methods for removing items from a list are remove() and del statement. "
   ]
  },
  {
   "cell_type": "markdown",
   "id": "2f6be8ca",
   "metadata": {},
   "source": [
    "# 12. Describe how list values and string values are identical.\n",
    "ANS: lists and strings can be passed to len(), have indexes and slices, be used in for loops, be concatenated or replicated, and be used with the in and not in operators."
   ]
  },
  {
   "cell_type": "markdown",
   "id": "a1ec76f6",
   "metadata": {},
   "source": [
    "# 13. What's the difference between tuples and lists?\n",
    "ANS: The only difference between list and tuples is that tuples are immutable while list can be modified .Also, lists are enclosed within square brackets[] whereas tuples are denoted using parantheses"
   ]
  },
  {
   "cell_type": "markdown",
   "id": "1193430f",
   "metadata": {},
   "source": [
    "# 14. How do you type a tuple value that only contains the integer 42?\n"
   ]
  },
  {
   "cell_type": "code",
   "execution_count": 25,
   "id": "7fe56427",
   "metadata": {},
   "outputs": [],
   "source": [
    "a = (42,)"
   ]
  },
  {
   "cell_type": "code",
   "execution_count": 26,
   "id": "9d3c52d5",
   "metadata": {},
   "outputs": [
    {
     "data": {
      "text/plain": [
       "tuple"
      ]
     },
     "execution_count": 26,
     "metadata": {},
     "output_type": "execute_result"
    }
   ],
   "source": [
    "type(a)"
   ]
  },
  {
   "cell_type": "markdown",
   "id": "27dedb5d",
   "metadata": {},
   "source": [
    "# 15. How do you get a list value's tuple form? How do you get a tuple value's list form?\n",
    "ANS: We can use tuple() to get a list value's tuple form and list() to get a tuple value's list form."
   ]
  },
  {
   "cell_type": "markdown",
   "id": "4d28d568",
   "metadata": {},
   "source": [
    "# 16. Variables that \"contain\" list values are not necessarily lists themselves. Instead, what do they contain?\n",
    "ANS: They contain references to list values."
   ]
  },
  {
   "cell_type": "markdown",
   "id": "ed5886a6",
   "metadata": {},
   "source": [
    "# 17. How do you distinguish between copy.copy() and copy.deepcopy()?\n",
    "ANS: The copy.copy() function will do a shallow copy of a list, while the copy.deepcopy() function will do a deep copy of a list. That is, only copy.deepcopy() will duplicate any lists inside the list."
   ]
  },
  {
   "cell_type": "code",
   "execution_count": null,
   "id": "98a27dda",
   "metadata": {},
   "outputs": [],
   "source": []
  }
 ],
 "metadata": {
  "kernelspec": {
   "display_name": "Python 3 (ipykernel)",
   "language": "python",
   "name": "python3"
  },
  "language_info": {
   "codemirror_mode": {
    "name": "ipython",
    "version": 3
   },
   "file_extension": ".py",
   "mimetype": "text/x-python",
   "name": "python",
   "nbconvert_exporter": "python",
   "pygments_lexer": "ipython3",
   "version": "3.9.13"
  }
 },
 "nbformat": 4,
 "nbformat_minor": 5
}

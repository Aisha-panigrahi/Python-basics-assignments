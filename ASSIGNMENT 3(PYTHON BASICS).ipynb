{
 "cells": [
  {
   "cell_type": "markdown",
   "id": "aad3cffd",
   "metadata": {},
   "source": [
    "# 1. Why are functions advantageous to have in your programs?\n",
    "ANS: Functions stop us from writing the same logic various times. We can bind the logic in one def and then call the same            over and over. It helps to divide the large programs into small groups so that we can read the code and debug the program      faster and           better."
   ]
  },
  {
   "cell_type": "markdown",
   "id": "237ddc06",
   "metadata": {},
   "source": [
    "# 2. When does the code in a function run: when it's specified or when it's called?\n",
    "The code in a function executes when the function is called, not when the function is defined."
   ]
  },
  {
   "cell_type": "markdown",
   "id": "c31ca7f7",
   "metadata": {},
   "source": [
    "# 3. What statement creates a function?\n",
    "ANS: def statement creates/defines a function.\n",
    "for eg;  def test()"
   ]
  },
  {
   "cell_type": "markdown",
   "id": "d00cf9ad",
   "metadata": {},
   "source": [
    "# 4. What is the difference between a function and a function call?\n",
    "ANS: A function is a block of code that does a particular operation and returns a result whereas a function call is the code used to pass control to a function.\n"
   ]
  },
  {
   "cell_type": "markdown",
   "id": "00a472de",
   "metadata": {},
   "source": [
    "# 5. How many global scopes are there in a Python program? How many local scopes?\n",
    "ANS:There is only one global scope in python. Each function in a python program has its own local scope in which all its variables and object names are defined. "
   ]
  },
  {
   "cell_type": "markdown",
   "id": "aee9e1db",
   "metadata": {},
   "source": [
    "# 6. What happens to variables in a local scope when the function call returns?\n",
    "ANS: When a function call returns,all local variables are destroyed as soon as we move away from that scope."
   ]
  },
  {
   "cell_type": "markdown",
   "id": "1cc56f99",
   "metadata": {},
   "source": [
    "# 7. What is the concept of a return value? Is it possible to have a return value in an expression?\n",
    "ANS: Return values refers to the values that a function returns after completing the execution of the program . Yes, it is possible to have a return value as a part of an expression."
   ]
  },
  {
   "cell_type": "markdown",
   "id": "ab3ecc3b",
   "metadata": {},
   "source": [
    "# 8. If a function does not have a return statement, what is the return value of a call to that function?\n",
    "ANS: If a function does not have a return statement, the return value of a call to that function is none i.e., it returns None"
   ]
  },
  {
   "cell_type": "markdown",
   "id": "1ad63bf4",
   "metadata": {},
   "source": [
    "# 9. How do you make a function variable refer to the global variable?\n",
    "ANS: A global variable is a variable that is declared outside the function but we need to use it inside the function. A global statement will force a variable in a function to refer to the global variable."
   ]
  },
  {
   "cell_type": "markdown",
   "id": "e7cea13d",
   "metadata": {},
   "source": [
    "# 10. What is the data type of None?\n",
    "ANS: NoneType"
   ]
  },
  {
   "cell_type": "code",
   "execution_count": 6,
   "id": "303416cf",
   "metadata": {},
   "outputs": [
    {
     "data": {
      "text/plain": [
       "NoneType"
      ]
     },
     "execution_count": 6,
     "metadata": {},
     "output_type": "execute_result"
    }
   ],
   "source": [
    "type(None)"
   ]
  },
  {
   "cell_type": "markdown",
   "id": "9f2110ec",
   "metadata": {},
   "source": [
    "# 11. What does the sentence import areallyourpetsnamederic do?\n",
    "ANS: It imports a module named as areallyourpetsnamederic."
   ]
  },
  {
   "cell_type": "markdown",
   "id": "6900bc29",
   "metadata": {},
   "source": [
    "# 12. If you had a bacon() feature in a spam module, what would you call it after importing spam?\n",
    "ANS: Bacon feature can be called using,\n",
    "\n",
    "        spam.bacon()"
   ]
  },
  {
   "cell_type": "markdown",
   "id": "f18ef027",
   "metadata": {},
   "source": [
    "# 13. What can you do to save a programme from crashing if it encounters an error?\n",
    "ANS: We can use try statement to test a code block and if it encounters an error an except block handles the error which avoids crashing a program."
   ]
  },
  {
   "cell_type": "markdown",
   "id": "f482842a",
   "metadata": {},
   "source": [
    "# 14. What is the purpose of the try clause? What is the purpose of the except clause?\n",
    "ANS: The purpose of try clause is to handle the code block that can cause error without crashing the programme.\n",
    "\n",
    "Just like if else statement, when if condition is false then the else statement executes. Similarly, if try block does  not execute successfully the program will run except block."
   ]
  },
  {
   "cell_type": "code",
   "execution_count": null,
   "id": "7439f609",
   "metadata": {},
   "outputs": [],
   "source": []
  }
 ],
 "metadata": {
  "kernelspec": {
   "display_name": "Python 3 (ipykernel)",
   "language": "python",
   "name": "python3"
  },
  "language_info": {
   "codemirror_mode": {
    "name": "ipython",
    "version": 3
   },
   "file_extension": ".py",
   "mimetype": "text/x-python",
   "name": "python",
   "nbconvert_exporter": "python",
   "pygments_lexer": "ipython3",
   "version": "3.9.13"
  }
 },
 "nbformat": 4,
 "nbformat_minor": 5
}

{
 "cells": [
  {
   "cell_type": "code",
   "execution_count": null,
   "id": "bcbea209",
   "metadata": {},
   "outputs": [],
   "source": [
    "1.What are the two values of the Boolean data type? How do you write them?\n",
    "ANS: The two values of the boolean data type are True and False. In python, the True should always start\n",
    "     with capital T and False with capital F."
   ]
  },
  {
   "cell_type": "code",
   "execution_count": null,
   "id": "d8e81dca",
   "metadata": {},
   "outputs": [],
   "source": [
    "2. What are the three different types of Boolean operators?\n",
    "ANS: There are three types of boolean operators:\n",
    "        (a)AND operator\n",
    "        (b)OR operator\n",
    "        (c)NOT operator"
   ]
  },
  {
   "cell_type": "code",
   "execution_count": 50,
   "id": "1a40ea8f",
   "metadata": {},
   "outputs": [
    {
     "name": "stdout",
     "output_type": "stream",
     "text": [
      "\n",
      "The AND operator truth table\n",
      " A  B AandB\n",
      "[0, 0, 0]\n",
      "[0, 1, 0]\n",
      "[1, 1, 1]\n",
      "\n",
      "The OR operator truth table\n",
      " A  B AorB\n",
      "[0, 0, 0]\n",
      "[0, 1, 1]\n",
      "[1, 1, 1]\n",
      "\n",
      "The NOT operator truth table\n",
      " A notA\n",
      "[0, 1]\n",
      "[1, 0]\n"
     ]
    }
   ],
   "source": [
    "# 3. Make a list of each Boolean operators truth tables (i.e. every possible combination of Boolean\n",
    "#   values for the operator and what it evaluate ).\n",
    "# ANS: \n",
    "andList = [[0, 0 ,0],[0,1,0],[1,1,1]]\n",
    "\n",
    "\n",
    "print(\"\\nThe AND operator truth table\")\n",
    "print(\" A  B AandB\")\n",
    "for i in andList:\n",
    "    print(i)\n",
    "    \n",
    "orList = [[0, 0 ,0],[0,1,1],[1,1,1]]\n",
    "\n",
    "print(\"\\nThe OR operator truth table\")\n",
    "print(\" A  B AorB\")\n",
    "for i in orList:\n",
    "    print(i)\n",
    "    \n",
    "notList = [[0, 1],[1,0]]\n",
    "\n",
    "print(\"\\nThe NOT operator truth table\")\n",
    "print(\" A notA\")\n",
    "for i in notList:\n",
    "    print(i)"
   ]
  },
  {
   "cell_type": "code",
   "execution_count": null,
   "id": "b31e8de0",
   "metadata": {},
   "outputs": [],
   "source": [
    "4. What are the values of the following expressions?\n",
    "(a)(5 > 4) and (3 == 5)\n",
    "(b)not (5 &gt; 4)\n",
    "(c)(5 &gt; 4) or (3 == 5)\n",
    "(d)not ((5 &gt; 4) or (3 == 5))\n",
    "(e)(True and True) and (True == False)\n",
    "(f)(not False) or (not True)\n",
    "ANS: (a)False\n",
    "     (b)False\n",
    "     (c)True\n",
    "     (d)False\n",
    "     (e)False\n",
    "     (f)True"
   ]
  },
  {
   "cell_type": "code",
   "execution_count": 7,
   "id": "0e256cf1",
   "metadata": {},
   "outputs": [
    {
     "data": {
      "text/plain": [
       "False"
      ]
     },
     "execution_count": 7,
     "metadata": {},
     "output_type": "execute_result"
    }
   ],
   "source": [
    "(5 > 4) and (3 == 5)"
   ]
  },
  {
   "cell_type": "code",
   "execution_count": 8,
   "id": "00472ddb",
   "metadata": {},
   "outputs": [
    {
     "data": {
      "text/plain": [
       "False"
      ]
     },
     "execution_count": 8,
     "metadata": {},
     "output_type": "execute_result"
    }
   ],
   "source": [
    "not (5 > 4)"
   ]
  },
  {
   "cell_type": "code",
   "execution_count": 10,
   "id": "9fa4429e",
   "metadata": {},
   "outputs": [
    {
     "data": {
      "text/plain": [
       "True"
      ]
     },
     "execution_count": 10,
     "metadata": {},
     "output_type": "execute_result"
    }
   ],
   "source": [
    "(5 > 4) or (3 == 5)"
   ]
  },
  {
   "cell_type": "code",
   "execution_count": 9,
   "id": "26341b2c",
   "metadata": {},
   "outputs": [
    {
     "data": {
      "text/plain": [
       "False"
      ]
     },
     "execution_count": 9,
     "metadata": {},
     "output_type": "execute_result"
    }
   ],
   "source": [
    "not ((5 > 4) or (3 == 5))"
   ]
  },
  {
   "cell_type": "code",
   "execution_count": 11,
   "id": "1733e43e",
   "metadata": {},
   "outputs": [
    {
     "data": {
      "text/plain": [
       "False"
      ]
     },
     "execution_count": 11,
     "metadata": {},
     "output_type": "execute_result"
    }
   ],
   "source": [
    "(True and True) and (True == False)"
   ]
  },
  {
   "cell_type": "code",
   "execution_count": 12,
   "id": "6f37060a",
   "metadata": {},
   "outputs": [
    {
     "data": {
      "text/plain": [
       "True"
      ]
     },
     "execution_count": 12,
     "metadata": {},
     "output_type": "execute_result"
    }
   ],
   "source": [
    "(not False) or (not True)"
   ]
  },
  {
   "cell_type": "code",
   "execution_count": null,
   "id": "2636f3d7",
   "metadata": {},
   "outputs": [],
   "source": [
    "5. What are the six comparison operators?\n",
    "ANS: Equal-to operator\n",
    "     Not-equal-to operator\n",
    "     Greater-than operator\n",
    "     Less-than operator\n",
    "     Greater-than-equal-to operator\n",
    "     Less-then-equal-to operator"
   ]
  },
  {
   "cell_type": "code",
   "execution_count": 49,
   "id": "df73a425",
   "metadata": {},
   "outputs": [
    {
     "name": "stdout",
     "output_type": "stream",
     "text": [
      "True\n"
     ]
    }
   ],
   "source": [
    "# 6. How do you tell the difference between the equal to and assignment operators? Describe a condition and when you would use one.\n",
    "# ANS: For assigning a value on the right hand side to a variable on the left hand side, assignment operator is used whereas equal to operator is used to check whether the two given operands are equal or not.\n",
    "#     Assignment operator is denoted by \" = \" symbol    \n",
    "#     Equal to operator is denoted by \" == \" symbol\n",
    "#     for eg;\n",
    "\n",
    "a = 1\n",
    "b = 1\n",
    "if a == b:\n",
    "    print(\"True\")\n",
    "else:\n",
    "    print(\"False\")\n",
    "     "
   ]
  },
  {
   "cell_type": "code",
   "execution_count": 47,
   "id": "d60422de",
   "metadata": {},
   "outputs": [
    {
     "name": "stdout",
     "output_type": "stream",
     "text": [
      "ham\n",
      "spam\n",
      "spam\n"
     ]
    }
   ],
   "source": [
    "# 7. Identify the three blocks in this code:\n",
    "# ANS:\n",
    "spam = 0    #1st block\n",
    "\n",
    "if spam == 10:    #2nd block\n",
    "    print('eggs')\n",
    "    \n",
    "if spam > 5:    #3rd block\n",
    "     print('bacon')\n",
    "else:\n",
    "    print('ham')\n",
    "    print('spam')\n",
    "    print('spam')"
   ]
  },
  {
   "cell_type": "code",
   "execution_count": null,
   "id": "8ab1056c",
   "metadata": {},
   "outputs": [],
   "source": [
    "# 8. Write code that prints Hello if 1 is stored in spam, prints Howdy if 2 is stored in spam, and prints\n",
    "#    Greetings! if anything else is stored in spam.\n",
    "# ANS: "
   ]
  },
  {
   "cell_type": "code",
   "execution_count": 42,
   "id": "bdb1bcd4",
   "metadata": {},
   "outputs": [
    {
     "name": "stdout",
     "output_type": "stream",
     "text": [
      "1\n",
      "Hello\n"
     ]
    }
   ],
   "source": [
    "spam = int(input())\n",
    "if spam == 1:\n",
    "    print('Hello')\n",
    "elif spam == 2:\n",
    "        print('Howdy')\n",
    "else:\n",
    "    print('Greetings!')"
   ]
  },
  {
   "cell_type": "code",
   "execution_count": null,
   "id": "cad88f14",
   "metadata": {},
   "outputs": [],
   "source": [
    "9.If your programme is stuck in an endless loop, what keys you’ll press?\n",
    "ANS: ctrl+c"
   ]
  },
  {
   "cell_type": "code",
   "execution_count": null,
   "id": "8a12601b",
   "metadata": {},
   "outputs": [],
   "source": [
    "10. How can you tell the difference between break and continue?\n",
    "AMS: Break Statement : \n",
    "     Break statements exist in Python to exit or “break” a for or while conditional loop. When the loop ends, the code picks up\n",
    "     from and executes the next line immediately following the loop that was broken\n",
    "\n",
    "    Continue Statement:\n",
    "    The continue statement is used to skip code within a loop for certain iterations of the loop. After the code is skipped,\n",
    "    the loop continues where it left off."
   ]
  },
  {
   "cell_type": "code",
   "execution_count": null,
   "id": "06cb6543",
   "metadata": {},
   "outputs": [],
   "source": [
    "11. In a for loop, what is the difference between range(10), range(0, 10), and range(0, 10, 1)?\n",
    "ANS: There is no difference in the range(10), range(0,10) and range(0,10,1).\n",
    "     RANGE takes 0 as starting point and 1 as increment by default."
   ]
  },
  {
   "cell_type": "code",
   "execution_count": null,
   "id": "8f232b9b",
   "metadata": {},
   "outputs": [],
   "source": [
    "12. Write a short program that prints the numbers 1 to 10 using a for loop. Then write an equivalent\n",
    "    program that prints the numbers 1 to 10 using a while loop.\n",
    "ANS: "
   ]
  },
  {
   "cell_type": "code",
   "execution_count": 57,
   "id": "b0040d35",
   "metadata": {},
   "outputs": [
    {
     "name": "stdout",
     "output_type": "stream",
     "text": [
      "1\n",
      "2\n",
      "3\n",
      "4\n",
      "5\n",
      "6\n",
      "7\n",
      "8\n",
      "9\n",
      "10\n"
     ]
    }
   ],
   "source": [
    "#using for loop\n",
    "for i in range(1,11):\n",
    "    print(i)"
   ]
  },
  {
   "cell_type": "code",
   "execution_count": 58,
   "id": "5bf30ff9",
   "metadata": {},
   "outputs": [
    {
     "name": "stdout",
     "output_type": "stream",
     "text": [
      "1\n",
      "2\n",
      "3\n",
      "4\n",
      "5\n",
      "6\n",
      "7\n",
      "8\n",
      "9\n",
      "10\n"
     ]
    }
   ],
   "source": [
    "#using while loop\n",
    "count=1\n",
    "while count<=10:\n",
    "    print(count)\n",
    "    count=count+1"
   ]
  },
  {
   "cell_type": "code",
   "execution_count": null,
   "id": "b588fbaa",
   "metadata": {},
   "outputs": [],
   "source": [
    "# 13. If you had a function named bacon() inside a module named spam, how would you call it after\n",
    "#    importing spam?\n",
    "# ANS:\n",
    "\n",
    "import spam\n",
    "a = spam.bacon()"
   ]
  },
  {
   "cell_type": "code",
   "execution_count": null,
   "id": "1205e9b8",
   "metadata": {},
   "outputs": [],
   "source": []
  },
  {
   "cell_type": "code",
   "execution_count": null,
   "id": "f6acdaf2",
   "metadata": {},
   "outputs": [],
   "source": []
  },
  {
   "cell_type": "code",
   "execution_count": null,
   "id": "7397a6ce",
   "metadata": {},
   "outputs": [],
   "source": []
  }
 ],
 "metadata": {
  "kernelspec": {
   "display_name": "Python 3 (ipykernel)",
   "language": "python",
   "name": "python3"
  },
  "language_info": {
   "codemirror_mode": {
    "name": "ipython",
    "version": 3
   },
   "file_extension": ".py",
   "mimetype": "text/x-python",
   "name": "python",
   "nbconvert_exporter": "python",
   "pygments_lexer": "ipython3",
   "version": "3.9.13"
  }
 },
 "nbformat": 4,
 "nbformat_minor": 5
}

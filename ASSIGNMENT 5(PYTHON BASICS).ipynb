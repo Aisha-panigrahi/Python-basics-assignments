{
 "cells": [
  {
   "cell_type": "markdown",
   "id": "4a0a6e8d",
   "metadata": {},
   "source": [
    "# 1. What does an empty dictionary's code look like?\n",
    "ANS: Empty dictionary contains only two curly brackets."
   ]
  },
  {
   "cell_type": "code",
   "execution_count": 1,
   "id": "bd30a8cb",
   "metadata": {},
   "outputs": [],
   "source": [
    "a = {}"
   ]
  },
  {
   "cell_type": "code",
   "execution_count": 2,
   "id": "9cf63f31",
   "metadata": {},
   "outputs": [
    {
     "data": {
      "text/plain": [
       "dict"
      ]
     },
     "execution_count": 2,
     "metadata": {},
     "output_type": "execute_result"
    }
   ],
   "source": [
    "type(a)"
   ]
  },
  {
   "cell_type": "markdown",
   "id": "4189c111",
   "metadata": {},
   "source": [
    "# 2. What is the value of a dictionary value with the key 'foo' and the value 42?\n",
    "ANS: In the below code, d is the variable containing dictionary value with the key 'foo' and value 42. When we call d variable, it gives the value as {'foo : 42}"
   ]
  },
  {
   "cell_type": "code",
   "execution_count": 4,
   "id": "4689e0df",
   "metadata": {},
   "outputs": [],
   "source": [
    "d = {'foo' : 42}"
   ]
  },
  {
   "cell_type": "code",
   "execution_count": 5,
   "id": "c3bd5c33",
   "metadata": {},
   "outputs": [
    {
     "data": {
      "text/plain": [
       "{'foo': 42}"
      ]
     },
     "execution_count": 5,
     "metadata": {},
     "output_type": "execute_result"
    }
   ],
   "source": [
    "d"
   ]
  },
  {
   "cell_type": "markdown",
   "id": "f91630e3",
   "metadata": {},
   "source": [
    "# 3. What is the most significant distinction between a dictionary and a list?\n",
    "ANS: List is a collection of index values pairs whereas dictionary is a hashed structure of key and value pairs. List is created by placing elements in [] separated by commas . Dictionary is created by placing elements in { } as “key”:”value”, each key value pair is separated by commas ."
   ]
  },
  {
   "cell_type": "markdown",
   "id": "4f507647",
   "metadata": {},
   "source": [
    "# 4. What happens if you try to access spam['foo'] if spam is {'bar': 100}?\n",
    "ANS: It will give keyerror as there is no such key defined in the dictionary."
   ]
  },
  {
   "cell_type": "code",
   "execution_count": 6,
   "id": "79e1efac",
   "metadata": {},
   "outputs": [],
   "source": [
    "spam = {'bar' : 100}"
   ]
  },
  {
   "cell_type": "code",
   "execution_count": 7,
   "id": "6162cee1",
   "metadata": {},
   "outputs": [
    {
     "ename": "KeyError",
     "evalue": "'foo'",
     "output_type": "error",
     "traceback": [
      "\u001b[1;31m---------------------------------------------------------------------------\u001b[0m",
      "\u001b[1;31mKeyError\u001b[0m                                  Traceback (most recent call last)",
      "\u001b[1;32m~\\AppData\\Local\\Temp\\ipykernel_7264\\3999281786.py\u001b[0m in \u001b[0;36m<module>\u001b[1;34m\u001b[0m\n\u001b[1;32m----> 1\u001b[1;33m \u001b[0mspam\u001b[0m\u001b[1;33m[\u001b[0m\u001b[1;34m'foo'\u001b[0m\u001b[1;33m]\u001b[0m\u001b[1;33m\u001b[0m\u001b[1;33m\u001b[0m\u001b[0m\n\u001b[0m",
      "\u001b[1;31mKeyError\u001b[0m: 'foo'"
     ]
    }
   ],
   "source": [
    "spam['foo']"
   ]
  },
  {
   "cell_type": "markdown",
   "id": "1d8da78c",
   "metadata": {},
   "source": [
    "# 5. If a dictionary is stored in spam, what is the difference between the expressions 'cat' in spam and 'cat' in spam.keys()? \n",
    "ANS: There is no difference as the in operator checks whether the 'cat' is presents in the key inside the spam dictionary. "
   ]
  },
  {
   "cell_type": "code",
   "execution_count": 14,
   "id": "2b1903d1",
   "metadata": {},
   "outputs": [],
   "source": [
    "spam = {'a': 'cat'}"
   ]
  },
  {
   "cell_type": "code",
   "execution_count": 18,
   "id": "9fa8fc19",
   "metadata": {},
   "outputs": [
    {
     "data": {
      "text/plain": [
       "False"
      ]
     },
     "execution_count": 18,
     "metadata": {},
     "output_type": "execute_result"
    }
   ],
   "source": [
    "'cat' in spam"
   ]
  },
  {
   "cell_type": "code",
   "execution_count": 17,
   "id": "416ddbe6",
   "metadata": {},
   "outputs": [
    {
     "data": {
      "text/plain": [
       "False"
      ]
     },
     "execution_count": 17,
     "metadata": {},
     "output_type": "execute_result"
    }
   ],
   "source": [
    "'cat' in spam.keys()"
   ]
  },
  {
   "cell_type": "markdown",
   "id": "300b2763",
   "metadata": {},
   "source": [
    "# 6. If a dictionary is stored in spam, what is the difference between the expressions 'cat' in spam and 'cat' in spam.values()?\n",
    "ANS: The 'cat' in spam operation checks whether 'cat' is stored as a key inside the dictionary whereas 'cat' in spam.values() checks whether 'cat' is stored as a value in the dictionary."
   ]
  },
  {
   "cell_type": "code",
   "execution_count": 19,
   "id": "6dbcb9cc",
   "metadata": {},
   "outputs": [
    {
     "data": {
      "text/plain": [
       "False"
      ]
     },
     "execution_count": 19,
     "metadata": {},
     "output_type": "execute_result"
    }
   ],
   "source": [
    "'cat' in spam"
   ]
  },
  {
   "cell_type": "code",
   "execution_count": 20,
   "id": "6e3ee8cb",
   "metadata": {},
   "outputs": [
    {
     "data": {
      "text/plain": [
       "True"
      ]
     },
     "execution_count": 20,
     "metadata": {},
     "output_type": "execute_result"
    }
   ],
   "source": [
    "'cat' in spam.values()"
   ]
  },
  {
   "cell_type": "markdown",
   "id": "9843fa34",
   "metadata": {},
   "source": [
    "# 7. What is a shortcut for the following code?\n",
    "## if 'color' not in spam: spam['color'] = 'black'"
   ]
  },
  {
   "cell_type": "code",
   "execution_count": 23,
   "id": "577cd1e5",
   "metadata": {},
   "outputs": [
    {
     "data": {
      "text/plain": [
       "'black'"
      ]
     },
     "execution_count": 23,
     "metadata": {},
     "output_type": "execute_result"
    }
   ],
   "source": [
    "spam.setdefault('color','black')"
   ]
  },
  {
   "cell_type": "markdown",
   "id": "6ff28381",
   "metadata": {},
   "source": [
    "# 8. How do you \"pretty print\" dictionary values using which module and function?\n",
    "ANS: pprint.pprint()"
   ]
  },
  {
   "cell_type": "code",
   "execution_count": 27,
   "id": "78f55bfb",
   "metadata": {},
   "outputs": [
    {
     "name": "stdout",
     "output_type": "stream",
     "text": [
      "{'a': 'cat', 'color': 'black'}\n"
     ]
    }
   ],
   "source": [
    "import pprint\n",
    "pprint.pprint(spam)"
   ]
  },
  {
   "cell_type": "code",
   "execution_count": null,
   "id": "596316b3",
   "metadata": {},
   "outputs": [],
   "source": []
  }
 ],
 "metadata": {
  "kernelspec": {
   "display_name": "Python 3 (ipykernel)",
   "language": "python",
   "name": "python3"
  },
  "language_info": {
   "codemirror_mode": {
    "name": "ipython",
    "version": 3
   },
   "file_extension": ".py",
   "mimetype": "text/x-python",
   "name": "python",
   "nbconvert_exporter": "python",
   "pygments_lexer": "ipython3",
   "version": "3.9.13"
  }
 },
 "nbformat": 4,
 "nbformat_minor": 5
}

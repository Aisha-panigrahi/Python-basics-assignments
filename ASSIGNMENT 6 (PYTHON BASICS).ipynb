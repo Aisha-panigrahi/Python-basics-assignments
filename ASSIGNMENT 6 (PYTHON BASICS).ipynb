{
 "cells": [
  {
   "cell_type": "markdown",
   "id": "b3d11ca8",
   "metadata": {},
   "source": [
    "# 1. What are escape characters, and how do you use them?\n",
    "ANS: Escape characters represent characters in string values that would otherwise be difficult or impossible to type into code. In Python strings, the backslash \"\" is a special character, also called the \"escape\" character. It is used in representing certain whitespace characters: \"\\t\" is a tab, \"\\n\" is a newline, and \"\\r\" is a carriage return."
   ]
  },
  {
   "cell_type": "markdown",
   "id": "3cb0f001",
   "metadata": {},
   "source": [
    "# 2. What do the escape characters n and t stand for?\n",
    "ANS: \\n is a newline; \\t is a tab."
   ]
  },
  {
   "cell_type": "markdown",
   "id": "c874c4a7",
   "metadata": {},
   "source": [
    "# 3. What is the way to include backslash characters in a string?\n",
    "ANS: The \\ escape character will represent a backslash character."
   ]
  },
  {
   "cell_type": "markdown",
   "id": "28b38ba0",
   "metadata": {},
   "source": [
    "# 4. The string \"Howl's Moving Castle\" is a correct value. Why isn't the single quote character in the word Howl's not escaped a problem?\n",
    "ANS: The single quote in Howl's doesn't throw an error because the double quotes have been used to mark the beginning and end of the string."
   ]
  },
  {
   "cell_type": "markdown",
   "id": "7d9943cd",
   "metadata": {},
   "source": [
    "# 5. How do you write a string of newlines if you don't want to use the n character?\n",
    "ANS: Multiline strings allow you to use newlines in strings without the \\n escape character."
   ]
  },
  {
   "cell_type": "markdown",
   "id": "b0aeb82f",
   "metadata": {},
   "source": [
    "# 6. What are the values of the given expressions?"
   ]
  },
  {
   "cell_type": "code",
   "execution_count": 1,
   "id": "a33eba68",
   "metadata": {},
   "outputs": [
    {
     "data": {
      "text/plain": [
       "'e'"
      ]
     },
     "execution_count": 1,
     "metadata": {},
     "output_type": "execute_result"
    }
   ],
   "source": [
    "'Hello world!'[1]"
   ]
  },
  {
   "cell_type": "code",
   "execution_count": 2,
   "id": "5dce6c67",
   "metadata": {},
   "outputs": [
    {
     "data": {
      "text/plain": [
       "'Hello'"
      ]
     },
     "execution_count": 2,
     "metadata": {},
     "output_type": "execute_result"
    }
   ],
   "source": [
    "'Hello world!'[0:5]"
   ]
  },
  {
   "cell_type": "code",
   "execution_count": 4,
   "id": "dfe0df1f",
   "metadata": {},
   "outputs": [
    {
     "data": {
      "text/plain": [
       "'Hello'"
      ]
     },
     "execution_count": 4,
     "metadata": {},
     "output_type": "execute_result"
    }
   ],
   "source": [
    "'Hello world!'[:5]"
   ]
  },
  {
   "cell_type": "code",
   "execution_count": 5,
   "id": "6b9af4ea",
   "metadata": {},
   "outputs": [
    {
     "data": {
      "text/plain": [
       "'lo world!'"
      ]
     },
     "execution_count": 5,
     "metadata": {},
     "output_type": "execute_result"
    }
   ],
   "source": [
    "'Hello world!'[3:]"
   ]
  },
  {
   "cell_type": "markdown",
   "id": "1096a5bd",
   "metadata": {},
   "source": [
    "# 7. What are the values of the following expressions?"
   ]
  },
  {
   "cell_type": "code",
   "execution_count": 6,
   "id": "e098ab61",
   "metadata": {},
   "outputs": [
    {
     "data": {
      "text/plain": [
       "'HELLO'"
      ]
     },
     "execution_count": 6,
     "metadata": {},
     "output_type": "execute_result"
    }
   ],
   "source": [
    "'Hello'.upper()"
   ]
  },
  {
   "cell_type": "code",
   "execution_count": 7,
   "id": "d2910cfb",
   "metadata": {},
   "outputs": [
    {
     "data": {
      "text/plain": [
       "True"
      ]
     },
     "execution_count": 7,
     "metadata": {},
     "output_type": "execute_result"
    }
   ],
   "source": [
    "'Hello'.upper().isupper()"
   ]
  },
  {
   "cell_type": "code",
   "execution_count": 8,
   "id": "3879d5ee",
   "metadata": {},
   "outputs": [
    {
     "data": {
      "text/plain": [
       "'hello'"
      ]
     },
     "execution_count": 8,
     "metadata": {},
     "output_type": "execute_result"
    }
   ],
   "source": [
    "'Hello'.upper().lower()"
   ]
  },
  {
   "cell_type": "markdown",
   "id": "d4f72573",
   "metadata": {},
   "source": [
    "# 8. What are the values of the following expressions?"
   ]
  },
  {
   "cell_type": "code",
   "execution_count": 9,
   "id": "087d8585",
   "metadata": {},
   "outputs": [
    {
     "data": {
      "text/plain": [
       "['Remember,', 'remember,', 'the', 'fifth', 'of', 'July.']"
      ]
     },
     "execution_count": 9,
     "metadata": {},
     "output_type": "execute_result"
    }
   ],
   "source": [
    "'Remember, remember, the fifth of July.'.split()"
   ]
  },
  {
   "cell_type": "code",
   "execution_count": 10,
   "id": "4d577665",
   "metadata": {},
   "outputs": [
    {
     "data": {
      "text/plain": [
       "'There-can-only-one.'"
      ]
     },
     "execution_count": 10,
     "metadata": {},
     "output_type": "execute_result"
    }
   ],
   "source": [
    "'-'.join('There can only one.'.split())"
   ]
  },
  {
   "cell_type": "markdown",
   "id": "57121ad2",
   "metadata": {},
   "source": [
    "# 9. What are the methods for right-justifying, left-justifying, and centering a string?\n",
    "ANS: rjust() ,\n",
    "     ljust() ,\n",
    "     center() respectively"
   ]
  },
  {
   "cell_type": "markdown",
   "id": "00cba50d",
   "metadata": {},
   "source": [
    "# 10. What is the best way to remove whitespace characters from the start or end?\n",
    "ANS:  lstrip() and rstrip() from left and right end respectively."
   ]
  },
  {
   "cell_type": "code",
   "execution_count": null,
   "id": "24950bc8",
   "metadata": {},
   "outputs": [],
   "source": []
  }
 ],
 "metadata": {
  "kernelspec": {
   "display_name": "Python 3 (ipykernel)",
   "language": "python",
   "name": "python3"
  },
  "language_info": {
   "codemirror_mode": {
    "name": "ipython",
    "version": 3
   },
   "file_extension": ".py",
   "mimetype": "text/x-python",
   "name": "python",
   "nbconvert_exporter": "python",
   "pygments_lexer": "ipython3",
   "version": "3.9.13"
  }
 },
 "nbformat": 4,
 "nbformat_minor": 5
}
